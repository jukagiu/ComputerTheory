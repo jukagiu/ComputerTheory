{
 "cells": [
  {
   "cell_type": "markdown",
   "metadata": {},
   "source": [
    "<p style=\"font-size:300%; background-color:pink; color:blue; text-align:center;line-height : 80px; margin : 0; padding : 0;\">\n",
    "Taller 1</p>\n",
    "<p style=\"font-size:240%; background-color:pink; color:red; text-align:center;line-height : 60px; margin : 0; padding : 0;\">\n",
    "Introduccion a la teoria de la computacion</p1>\n",
    "\n",
    "<p style=\"font-size:200%; text-align:center; line-height : 40px;  margin-top : 0; margin-bottom : 0; \"> <br>Presentado por: Julian Camilo Mendez</p>\n",
    "<p style=\"font-size:160%; text-align:center; line-height : 20px; margin-top : 0; \"> email: jucmendezco@unal.edu.co</p>\n",
    "<p style=\"font-size:180%; text-align:center; line-height : 30px;  margin-top : 0; margin-bottom : 0; \"> <br><br>Ingenieria de Sistemas y Computacion</p>\n",
    "<p style=\"font-size:180%; text-align:center; line-height : 30px; margin-top : 0; \"> Facultad de Ingeniería</p>\n",
    "<p style=\"font-size:160%; text-align:center; line-height : 30px; margin-top : 0; \"> Universidad Nacional de Colombia Sede Bogotá</p>\n",
    "<br>\n",
    "<p style=\"font-size:160%; text-align:center; line-height : 30px; margin-top : 0; \"> <br>14 de marzo de 2017</p>"
   ]
  },
  {
   "cell_type": "markdown",
   "metadata": {},
   "source": [
    "\n",
    "<h1 style=\"font-size:300%; background-color:powderblue; color:red; text-align:center; line-height : 60px;\">\n",
    "Punto 1 </h1>\n",
    "\n",
    "\n",
    "<ul style=\"font-size:170%; line-height : 35px;\">\n",
    "  <li>Considere el problema de determinar si un código corresponde a un ISBN de 13 dígitos.\n",
    "Construya un autómata finito determinístico para identificar si un código es válido o no.\n",
    "Especifique formalmente el autómata, dibuje el diagrama y la tabla de transiciones.\n",
    "Implemente el autómata correspondiente utilizado una clase autómata. (4 Puntos) </li>\n",
    "</ul>\n"
   ]
  },
  {
   "cell_type": "markdown",
   "metadata": {},
   "source": [
    "<ul style=\"font-size:170%; line-height : 35px;\">\n",
    "  <li>A continuacion se muestra el diagrama del automata contador para 13 digitos</li>\n",
    "  <li>En este contamos con 15 estados, 14 de ellos para contar digitos y el restante es para crear un punto de no regreso por si se ingresan mas de 13 digitos</li>\n",
    "</ul>\n",
    "<img src=\"Diagramas/p1.png\" alt=\"Imagen vectorial ampliada\" width = \"500\" height=\"300\" style=\"border: #00008B 4px solid;\">\n",
    "<ul style=\"font-size:170%; line-height : 35px;\">\n",
    "  <li>Una definicion mas formar viene dada a continuacion</li>\n",
    "  <li>Tambien se puede observar la tabla de transiciones</li>\n",
    "</ul>"
   ]
  },
  {
   "cell_type": "markdown",
   "metadata": {},
   "source": [
    "$$Q=\\{q_0,q_1,q_2,q_3,q_4,q_5,q_6,q_7,q_8,q_9,q_{10},q_{11},q_{12},q_{13},q_{14}\\}$$\n",
    "$$\\Sigma =\\{0,1,2,3,4,5,6,7,8,9\\}$$\n",
    "$$q_0 =q_0$$\n",
    "$$F =\\{q_{13}\\}$$\n",
    "\\begin{array}{|c|c|}\\hline\n",
    "\\delta & {0,1,2,3,4,5,6,7,8,9}  \\\\ \\hline\n",
    "-q_0&q_1 \\\\ \\hline\n",
    "q_1&q_2 \\\\ \\hline\n",
    "q_2&q_3 \\\\ \\hline\n",
    "q_3&q_4 \\\\ \\hline\n",
    "q_4&q_5 \\\\ \\hline\n",
    "q_5&q_6 \\\\ \\hline\n",
    "q_6&q_7 \\\\ \\hline\n",
    "q_7&q_8 \\\\ \\hline\n",
    "q_8&q_9 \\\\ \\hline\n",
    "q_9&q_{10} \\\\ \\hline\n",
    "q_{10}&q_{11} \\\\ \\hline\n",
    "q_{11}&q_{12} \\\\ \\hline\n",
    "q_{12}&q_{13} \\\\ \\hline\n",
    "*q_{13}&q_{14} \\\\ \\hline\n",
    "q_{14}&q_{14} \\\\ \\hline\n",
    "\\end{array}\n",
    "\n"
   ]
  },
  {
   "cell_type": "markdown",
   "metadata": {},
   "source": [
    "<ul style=\"font-size:170%; line-height : 35px;\">\n",
    "  <li>Finalmente, observamos el codigo de la clase automata</li>\n",
    "  <li>Se definen las caracteristicas del automata y luego se realizan algunas pruebas</li>\n",
    "</ul>"
   ]
  },
  {
   "cell_type": "code",
   "execution_count": 28,
   "metadata": {
    "collapsed": false,
    "scrolled": false
   },
   "outputs": [
    {
     "name": "stdout",
     "output_type": "stream",
     "text": [
      "----------Configuracion---------\n",
      "estados:  15\n",
      "estado inicial:  0\n",
      "estados finales:  [13]\n",
      "------------------------------------\n",
      "Iniciamos en estado:  0\n",
      "Palabra a procesar: \n",
      "1234567890123\n",
      "palabra aceptada en estado:  13\n",
      "------------------------------------\n",
      "Iniciamos en estado:  0\n",
      "Palabra a procesar: \n",
      "12345678901234\n",
      "palabra NO aceptada en estado:  14\n",
      "------------------------------------\n",
      "Iniciamos en estado:  0\n",
      "Palabra a procesar: \n",
      "123456789012\n",
      "palabra NO aceptada en estado:  12\n",
      "------------------------------------\n",
      "Iniciamos en estado:  0\n",
      "Palabra a procesar: \n",
      "123456789012345\n",
      "palabra NO aceptada en estado:  14\n"
     ]
    }
   ],
   "source": [
    "class Automata:\n",
    "    \n",
    "    #Definimos el automata con un funcion de transicion, estado inicial\n",
    "    #estados finales, estado actual (para procesar una palabra) y el numero de estados\n",
    "    funcionTransicion=dict()\n",
    "    eInicial=-1\n",
    "    eFinales=[]\n",
    "    estadoActual=-1\n",
    "    estados=-1\n",
    "    \n",
    "    #Inicializamos el automata con un numero de estados\n",
    "    def __init__(self,numeroEstados):\n",
    "        self.estados=numeroEstados\n",
    "        \n",
    "        \n",
    "    #Definimos transiciones con un estado inicial, un caracter y un estado final\n",
    "    def definirTransicion(self,inicial,caracter,final):\n",
    "        #Validamos que la informacion sea correcta (estados o caracteres)\n",
    "        if self.estados>inicial and inicial>=0:\n",
    "            if self.estados>final and final>=0:\n",
    "                if caracter in self.alfabeto:\n",
    "                    #Definimos la transicion\n",
    "                    self.funcionTransicion[(inicial,caracter)]=final\n",
    "                else:\n",
    "                    print 'caracter invalido'\n",
    "            else:\n",
    "                print 'estado final invalido'\n",
    "        else:\n",
    "            print 'estado inicial invalido'\n",
    "            \n",
    "    #Metodo para definir varias transiciones entre 2 estados\n",
    "    def definirVariasTransiciones(self,inicial,lCaracter,final):\n",
    "         if(len(lCaracter)>0):\n",
    "                self.definirTransicion(inicial,lCaracter[0],final)\n",
    "                self.definirVariasTransiciones(inicial,lCaracter[1:len(lCaracter)],final)\n",
    "    \n",
    "    #Definimos un alfabeto\n",
    "    def definirAlfabeto(self,alfabeto):\n",
    "        self.alfabeto=alfabeto\n",
    "    \n",
    "    #Definimos un estado inicial\n",
    "    def definirEInicial(self,inicial):\n",
    "        if self.estados>inicial and inicial>=0:\n",
    "            self.eInicial=inicial\n",
    "    \n",
    "    #Definimos varios estados finales\n",
    "    def definirEFinales(self,finales):\n",
    "        for f in finales:\n",
    "            if self.estados>f and f>=0:\n",
    "                self.eFinales.append(f)\n",
    "            else:\n",
    "                print 'estado final invalido'\n",
    "    \n",
    "    #Ver configuracion del automata\n",
    "    def imprimirConfiguracion(self):\n",
    "        print '----------Configuracion---------'\n",
    "        print 'estados: ',self.estados\n",
    "        print 'estado inicial: ', self.eInicial\n",
    "        print 'estados finales: ', self.eFinales\n",
    "    \n",
    "    #Verificar si una cadena de entrada es aceptada\n",
    "    def procesarCadena(self,lista):\n",
    "        #Caso inicial\n",
    "        if self.estadoActual==-1:\n",
    "            self.estadoActual=self.eInicial\n",
    "            print '------------------------------------'\n",
    "            print 'Iniciamos en estado: ',self.eInicial\n",
    "            print 'Palabra a procesar: '\n",
    "            print ''.join(lista)\n",
    "        if(len(lista)>0):\n",
    "            #Verificamos si la transicion existe\n",
    "            if (self.estadoActual,lista[0]) not in self.funcionTransicion.keys():\n",
    "                self.estadoActual=-1\n",
    "                print 'cadena no aceptada'\n",
    "            else:\n",
    "                self.estadoActual=self.funcionTransicion[(self.estadoActual,lista[0])]\n",
    "                #print 'pasamos a estado: ',self.estadoActual\n",
    "                self.procesarCadena(lista[1:len(lista)])\n",
    "                \n",
    "        else:\n",
    "            #Si finalizamos en estado final, aceptamos\n",
    "            if self.estadoActual in self.eFinales:\n",
    "                print 'palabra aceptada en estado: ',self.estadoActual\n",
    "                self.estadoActual=-1\n",
    "            #Si no, rechazamos\n",
    "            else:\n",
    "                print 'palabra NO aceptada en estado: ',self.estadoActual\n",
    "                self.estadoActual=-1\n",
    "            \n",
    "            \n",
    "        \n",
    "                   \n",
    "#Definimos 15 estados, del 0 al 14            \n",
    "dfa=Automata(15)    \n",
    "\n",
    "#Definimos el alfabeto, todos los numeros\n",
    "dfa.definirAlfabeto({'0','1','2','3','4','5','6','7','8','9'})\n",
    "\n",
    "#Definimos estado 0 como inicial\n",
    "dfa.definirEInicial(0)\n",
    "\n",
    "#Definimos los estados finales, estado 13\n",
    "dfa.definirEFinales({13})\n",
    "\n",
    "#Definimos las transiciones\n",
    "dfa.definirVariasTransiciones(0,list('0123456789'),1)\n",
    "dfa.definirVariasTransiciones(1,list('0123456789'),2)\n",
    "dfa.definirVariasTransiciones(2,list('0123456789'),3)\n",
    "dfa.definirVariasTransiciones(3,list('0123456789'),4)\n",
    "dfa.definirVariasTransiciones(4,list('0123456789'),5)\n",
    "dfa.definirVariasTransiciones(5,list('0123456789'),6)\n",
    "dfa.definirVariasTransiciones(6,list('0123456789'),7)\n",
    "dfa.definirVariasTransiciones(7,list('0123456789'),8)\n",
    "dfa.definirVariasTransiciones(8,list('0123456789'),9)\n",
    "dfa.definirVariasTransiciones(9,list('0123456789'),10)\n",
    "dfa.definirVariasTransiciones(10,list('0123456789'),11)\n",
    "dfa.definirVariasTransiciones(11,list('0123456789'),12)\n",
    "dfa.definirVariasTransiciones(12,list('0123456789'),13)\n",
    "dfa.definirVariasTransiciones(13,list('0123456789'),14)\n",
    "dfa.definirVariasTransiciones(14,list('0123456789'),14)\n",
    "\n",
    "dfa.imprimirConfiguracion()\n",
    "\n",
    "#Probamos una cadena de 13 digitos, cadena aceptada\n",
    "dfa.procesarCadena(list('1234567890123'))  \n",
    "\n",
    "#Probamos una cadena de 14 digitos, cadena rechazada\n",
    "dfa.procesarCadena(list('12345678901234'))  \n",
    "\n",
    "#Probamos una cadena de 12 digitos, cadena rechazada\n",
    "dfa.procesarCadena(list('123456789012'))  \n",
    "\n",
    "#Probamos una cadena de 15 digitos, cadena rechazada\n",
    "dfa.procesarCadena(list('123456789012345'))  \n",
    "\n",
    "\n",
    "\n",
    "    "
   ]
  },
  {
   "cell_type": "markdown",
   "metadata": {},
   "source": [
    "<h1 style=\"font-size:300%; background-color:powderblue; color:red; text-align:center; line-height : 60px;\">\n",
    "Punto 2 </h1>\n",
    "\n",
    "\n",
    "<ul style=\"font-size:170%; line-height : 35px;\">\n",
    "  <li>Construya un autómata finito determinístico sobre el alfabeto $\\Sigma=\\{a,b\\}$la cual acepte todas\n",
    "las cadenas que contengan NO más de dos ocurrencias consecutivas de la misma\n",
    "entrada (Por ejemplo, abba es aceptada y abbba no es aceptada). Especifique\n",
    "formalmente el autómata, dibuje el diagrama y la tabla de transiciones. (2 Puntos) </li>\n",
    "</ul>"
   ]
  },
  {
   "cell_type": "markdown",
   "metadata": {},
   "source": [
    "<ul style=\"font-size:170%; line-height : 35px;\">\n",
    "  <li>El diagrama para procesar dicho lenguaje es:</li>\n",
    "</ul>\n",
    "<img src=\"Diagramas/p2.png\" alt=\"Imagen vectorial ampliada\" width = \"500\" height=\"300\" style=\"border: #00008B 4px solid;\">\n",
    "<ul style=\"font-size:170%; line-height : 35px;\">\n",
    "  <li>Una definicion mas formal con su respectiva tabla de transiciones se muestra a continuacion</li>\n",
    "</ul>"
   ]
  },
  {
   "cell_type": "markdown",
   "metadata": {
    "collapsed": true
   },
   "source": [
    "$$Q=\\{q_0,q_1,q_2,q_3,q_4,q_5\\}$$\n",
    "$$\\Sigma =\\{a,b\\}$$\n",
    "$$q_0 =q_0$$\n",
    "$$F =\\{q_o,q_1,q_2,q_3,q_4\\}$$\n",
    "\\begin{array}{|c|c|c|}\\hline\n",
    "\\delta & a & b  \\\\ \\hline\n",
    "-*q_0&q_1&q_3 \\\\ \\hline\n",
    "*q_1&q_2&q_3 \\\\ \\hline\n",
    "*q_2&q_5&q_3 \\\\ \\hline\n",
    "*q_3&q_1&q_4 \\\\ \\hline\n",
    "*q_4&q_1&q_5 \\\\ \\hline\n",
    "q_5&q_5&q_5 \\\\ \\hline\n",
    "\\end{array}\n",
    "\n"
   ]
  },
  {
   "cell_type": "markdown",
   "metadata": {},
   "source": [
    "<h1 style=\"font-size:300%; background-color:powderblue; color:red; text-align:center; line-height : 60px;\">\n",
    "Punto 3 </h1>\n",
    "\n",
    "\n",
    "<ul style=\"font-size:170%; line-height : 35px;\">\n",
    "  <li>Dado un autómata finito determinístico $M$ , construya un nuevo autómata finito\n",
    "determinístico $M´$ con el mismo alfabeto de entrada y con la propiedad de que para\n",
    "todos los $u \\in \\Sigma^*$, u es aceptado por $M´$ si y solo si NO es aceptado por $M$. (2\n",
    "Puntos) </li>\n",
    "</ul>"
   ]
  },
  {
   "cell_type": "markdown",
   "metadata": {},
   "source": [
    "<ul style=\"font-size:170%; line-height : 35px;\">\n",
    "  <li>Para explicar este punto, tomamos como base el punto anterior</li>\n",
    "  <li>Si $M$ acepta maximo 2 ocurrencias de cada simbolo $(a,b)$ entonces $M´$ debe aceptar solo 3 o mas ocurrencias</li>\n",
    "  <li>Para lograr esto, tomamos el automata $M$ y convertimos todos los estados que no sean de aceptacion para que lo sean, al mismo tiempo, los que sean de aceptacion, dejaran de serlo</li>\n",
    "  \n",
    "  <li>A la izquierda $M$, a la derecha $M´$</li>\n",
    "</ul>\n",
    "<table>\n",
    "    <td><img src=\"Diagramas/p2.png\" alt=\"Imagen vectorial\" width = \"500\" height=\"300\" style=\"border: #00008B 4px solid;\" ></td>\n",
    "    <td><img src=\"Diagramas/p3.png\" alt=\"Imagen vectorial\" width = \"500\" height=\"300\" style=\"border: #00008B 4px solid;\" ></td>\n",
    "</table>\n",
    "<ul style=\"font-size:170%; line-height : 35px;\">\n",
    "  <li>Finalmente, se concluye que el automata $M´$ si cumple con la negacion de $M$, o lo que es lo mismo, aceptar el complemento de $L(M)$</li>\n",
    "  \n",
    "</ul>"
   ]
  },
  {
   "cell_type": "markdown",
   "metadata": {},
   "source": [
    "<h1 style=\"font-size:300%; background-color:powderblue; color:red; text-align:center; line-height : 60px;\">\n",
    "Punto 4 </h1>\n",
    "\n",
    "\n",
    "<ul style=\"font-size:170%; line-height : 35px;\">\n",
    "  <li>Dados dos autómatas finitos determinísticos $M_1$ y $M_2$ con el mismo alfabeto de\n",
    "entrada, construya un tercer autómata finito determinísticos (M) con la propiedad que\n",
    "$u \\in \\Sigma^*$ es aceptado por M si y solo si es aceptado por ambos $M_1$ y $M_2$ . (2 Puntos) </li>\n",
    "</ul>"
   ]
  },
  {
   "cell_type": "markdown",
   "metadata": {},
   "source": [
    "<ul style=\"font-size:170%; line-height : 35px;\">\n",
    "  <li>Para llevar a cabo la union de 2 automatas, basta con unir los estados de $M_1$ con los de $M_2$, parecido a cuando queremos pasar de NFA a DFA</li>\n",
    "  <li>La idea es ir manejando las transiciones al mismo tiempo en los 2 automatas</li>\n",
    "  <li>A continuacion podemos observar un ejemplo</li>\n",
    "</ul>\n",
    "<img src=\"Diagramas/p4.png\" alt=\"Imagen vectorial ampliada\" width = \"500\" height=\"300\" style=\"border: #00008B 4px solid;\">"
   ]
  },
  {
   "cell_type": "markdown",
   "metadata": {},
   "source": [
    "<h1 style=\"font-size:300%; background-color:powderblue; color:red; text-align:center; line-height : 60px;\">\n",
    "Punto 5 </h1>\n",
    "\n",
    "\n",
    "<ul style=\"font-size:170%; line-height : 35px;\">\n",
    "  <li>Construya un autómata finito no determinístico que permita aceptar palabras sobre el\n",
    "alfabeto $\\Sigma=\\{1,2,3\\}$ tal que el último símbolo aparezca al menos dos veces, pero sin la\n",
    "intervención de un símbolo superior en la mitad. Por ejemplo, 11, 2112, 123113,\n",
    "3212113, etc. (2 Puntos) </li>\n",
    "</ul>"
   ]
  },
  {
   "cell_type": "markdown",
   "metadata": {},
   "source": [
    "<ul style=\"font-size:170%; line-height : 35px;\">\n",
    "  <li>Para este NFA, debemos evaluar todas las posibles opciones:</li>\n",
    "  <li>Todo numero mayor que aparece a la derecha, anula al anterior</li>\n",
    "  <li>Todo numero menor que aparece a la derecha, creara 2 posibles rutas, la del nuevo numero y la del numero mayor</li>\n",
    "</ul>\n",
    "<img src=\"Diagramas/p5.png\" alt=\"Imagen vectorial ampliada\" width = \"500\" height=\"300\" style=\"border: #00008B 4px solid;\">\n",
    "<ul style=\"font-size:170%; line-height : 35px;\">\n",
    "  <li>La tabla de transiciones para este NFA se puede observar a continuacion:</li>\n",
    "</ul>"
   ]
  },
  {
   "cell_type": "markdown",
   "metadata": {
    "collapsed": true
   },
   "source": [
    "$$Q=\\{q_0,q_1,q_2,q_3,q_4,q_5,q_6\\}$$\n",
    "$$\\Sigma =\\{1,2,3\\}$$\n",
    "$$q_0 =q_0$$\n",
    "$$F =\\{q_4,q_5,q_6\\}$$\n",
    "\\begin{array}{|c|c|c|c|}\\hline\n",
    "\\delta & 1 & 2 & 3   \\\\ \\hline\n",
    "-q_0&\\{q_1\\}&\\{q_2\\}&\\{q_3\\} \\\\ \\hline\n",
    "q_1&\\{q_4\\}&\\{q_2\\}&\\{q_3\\} \\\\ \\hline\n",
    "q_2&\\{q_1,q_2\\}&\\{q_5\\}&\\{q_3\\} \\\\ \\hline\n",
    "q_3&\\{q_1,q_3\\}&\\{q_2,q_3\\}&\\{q_6\\} \\\\ \\hline\n",
    "*q_4&\\{q_4\\}&\\{q_2\\}&\\{q_3\\} \\\\ \\hline\n",
    "*q_5&\\{q_1,q_2\\}&\\{q_5\\}&\\{q_3\\} \\\\ \\hline\n",
    "*q_6&\\{q_1,q_3\\}&\\{q_2,q_3\\}&\\{q_6\\} \\\\ \\hline\n",
    "\\end{array}"
   ]
  },
  {
   "cell_type": "markdown",
   "metadata": {},
   "source": [
    "<h1 style=\"font-size:300%; background-color:powderblue; color:red; text-align:center; line-height : 60px;\">\n",
    "Punto 6 </h1>\n",
    "\n",
    "\n",
    "<ul style=\"font-size:170%; line-height : 35px;\">\n",
    "  <li>Escriba un autómata que reconozca todos las cadenas sobre $\\Sigma=\\{0,1\\}$  que representan\n",
    "números binarios que son divisibles por . Por ejemplo, 0, 101, 1010, 1111, 11001. (3\n",
    "Puntos) </li>\n",
    "</ul>"
   ]
  },
  {
   "cell_type": "markdown",
   "metadata": {},
   "source": [
    "<ul style=\"font-size:170%; line-height : 35px;\">\n",
    "  <li>Para realizar este automata, se agruparon todos los posible numeros en 5 grupos, que serian exactamente el modulo 5</li>\n",
    "  <li>El estado 0 representa todos los numeros que modulo 5 resulten ser 0, lo mismo para los otros estados</li>\n",
    "  <li>Las transiciones se crearon de acuerdo a la suma de esos modulos</li>\n",
    "</ul>\n",
    "<img src=\"Diagramas/p6.png\" alt=\"Imagen vectorial ampliada\" width = \"500\" height=\"300\" style=\"border: #00008B 4px solid;\">\n",
    "<ul style=\"font-size:170%; line-height : 35px;\"><li>Las transiciones y definicion de las partes se ve a continuacion:</li>\n",
    "</ul>"
   ]
  },
  {
   "cell_type": "markdown",
   "metadata": {},
   "source": [
    "$$Q=\\{q_0,q_1,q_2,q_3,q_4\\}$$\n",
    "$$\\Sigma =\\{0,1\\}$$\n",
    "$$q_0 =q_0$$\n",
    "$$F =\\{q_0\\}$$\n",
    "\\begin{array}{|c|c|c|}\\hline\n",
    "\\delta & 0 & 1  \\\\ \\hline\n",
    "-*q_0&q_0&q_1 \\\\ \\hline\n",
    "q_1&q_2&q_3 \\\\ \\hline\n",
    "q_2&q_4&q_0 \\\\ \\hline\n",
    "q_3&q_1&q_2 \\\\ \\hline\n",
    "q_4&q_3&q_4 \\\\ \\hline\n",
    "\\end{array}\n"
   ]
  },
  {
   "cell_type": "markdown",
   "metadata": {},
   "source": [
    "<h1 style=\"font-size:300%; background-color:powderblue; color:red; text-align:center; line-height : 60px;\">\n",
    "Punto 8 </h1>\n",
    "\n",
    "\n",
    "<ul style=\"font-size:170%; line-height : 35px;\">\n",
    "  <li>Pruebe o desapruebe la siguiente afirmación: El siguiente autómata acepta el lenguaje\n",
    "  $$L=\\{w  \\mid  w=a^{i}b^{j} \\cup  w= a^{i}c^{j}, i\\geq 1, j\\geq 1\\}$$\n",
    "(2 Puntos)</li>\n",
    "</ul>"
   ]
  },
  {
   "cell_type": "markdown",
   "metadata": {},
   "source": [
    "<ul style=\"font-size:170%; line-height : 35px;\">\n",
    "  <li>A continuacion observamos el automata:</li>\n",
    "</ul>\n",
    "<img src=\"Diagramas/p7.png\" alt=\"Imagen vectorial ampliada\" width = \"500\" height=\"300\" style=\"border: #00008B 4px solid;\">\n",
    "<ul style=\"font-size:170%; line-height : 35px;\">\n",
    "  <li>Supongamos que $i=0$ y $j=0$ entonces $w=ab$ o $w=ac$</li>\n",
    "  <li>Segun lo anterior, $w=ac$</li>\n",
    "  <li>En el automata, no podemos llegar a un estado final para la palabra $w=ac$</li>\n",
    "  <li>Concluimos entonces que la afirmacion es falsa</li>\n",
    "</ul>"
   ]
  },
  {
   "cell_type": "markdown",
   "metadata": {
    "collapsed": true
   },
   "source": [
    "<h1 style=\"font-size:300%; background-color:powderblue; color:red; text-align:center; line-height : 60px;\">\n",
    "Punto 9 </h1>\n",
    "\n",
    "\n",
    "<ul style=\"font-size:170%; line-height : 35px;\">\n",
    "  <li>Respecto al uso de autómatas (máquinas de estado finito) para el diseño de personajes\n",
    "de video juegos (4 Puntos):</li>\n",
    "<li>¿Cúales son las ventajas del uso de la abstracción de maquinas de estado\n",
    "frente a una implementación utlizando condicionales?</li>\n",
    "<li>¿Cómo se utilizan los autómatas en el diseño de personajes para video\n",
    "juegos?</li>\n",
    "<li>Seleccione su personaje de video juegos parecido, especifique formalmente su\n",
    "autómata, encuentre el lenguaje aceptado por el automata, pruebe que el\n",
    "lenguaje propuesto efectivamente es aceptado por el autómata. Seleccione un\n",
    "personaje con al menos cuatro estados y 4 acciones.)</li>\n",
    "</ul>"
   ]
  },
  {
   "cell_type": "markdown",
   "metadata": {},
   "source": [
    "<ul style=\"font-size:170%; line-height : 35px;\">\n",
    "  <li>Dentro de las ventajas de utilizar automatas sobre condicionales encontramos que tener un alfabeto de entrada definido nos ayuda a delimitar el problema, al igual que, el manejo de estados nos permite diferenciar varios comportamientos del sistema sin llegar a tener redundancia, manteniendo todo debidamente organizado</li>\n",
    "<li>Los automatas dentro de los videojuegos se utilizan para cambiar los estados de la simulacion, muchos factores pueden alterar el estado de un personaje, por ejemplo, entonces para mantener una estructura organizada y sin redundancia, utilizamos los automatas (que en resumen, muestran la funcionalidad completa de un personaje)</li>\n",
    "\n",
    "</ul>"
   ]
  },
  {
   "cell_type": "markdown",
   "metadata": {},
   "source": [
    "<ul style=\"font-size:170%; line-height : 35px;\">\n",
    "  <li>El juego elegido para esta actividad es Contra (1987) de Nintendo</li>\n",
    "  <li>Modelaremos un automata para mirar el comportamiento del personaje Bill (protagonista)</li>\n",
    "</ul>\n",
    "<img src=\"Diagramas/c1.png\" alt=\"Imagen vectorial ampliada\" width = \"500\" height=\"300\" style=\"border: #00008B 4px solid;\">\n",
    "\n",
    "<img src=\"Diagramas/bill.png\" alt=\"Imagen vectorial ampliada\" width = \"500\" height=\"300\" style=\"border: #00008B 4px solid;\">\n",
    "<ul style=\"font-size:170%; line-height : 35px;\">\n",
    "  <li>En este juego basicamente se avanza en direccion horizontal, acabando con la mayor cantidad de enemigo hasta llagar a un jefe final, que nos permitira avanzar de nivel</li>\n",
    "  <li>El personaje cuenta con un arma de fuego para disparar a los enemigos</li>\n",
    "  <li>A continuacion se listan los estados del jugador y las entradas para cada estado, asi mismo, el lenguaje de entrada</li>\n",
    "  \n",
    "</ul>"
   ]
  },
  {
   "cell_type": "markdown",
   "metadata": {},
   "source": [
    "$$\\Sigma=\\{ Arriba, Abajo, Izquierda, Derecha, BotonDisparo, BotonSalto, LiberarDisparo, LiberarDireccion, SueloEncontrado, SueloNoEncontrado, Abismo, CambioDireccion, ContactoConEnemigo\\}$$\n",
    "<br>\n",
    "<br>\n",
    "Por simplicidad, se dan ciertos atajos a algunas acciones realizadas con el mando de nintendo:\n",
    "<br>\n",
    "\n",
    "\n",
    "\n",
    "\n",
    "<ul>\n",
    "  <li>IzquierdaDerecha: Pulsar el boton de direccion hacia izquierda o derecha</li>\n",
    "  <li>CambioDireccion: Pulsar el boton de direccion hacia algun otro lugar diferente de hacia adelante</li>\n",
    "  <li>LiberarDisparo: Dejar de pulsar el boton de disparo</li>\n",
    "   <li>LiberarDireccion: Dejar de pulsar algun boton de direccion</li>\n",
    "</ul>\n",
    "<br>\n",
    "\\begin{array}{|c|c|}\\hline\n",
    "Estado & Accion  \\\\ \\hline\n",
    "q_0&Estatico \\\\ \\hline\n",
    "q_1&Saltando \\\\ \\hline\n",
    "q_2&Saltado+Moviendose \\\\ \\hline\n",
    "q_3&Cayendo \\\\ \\hline\n",
    "q_4&Moviendose \\\\ \\hline\n",
    "q_5&Muerto \\\\ \\hline\n",
    "q_6&Disparando \\\\ \\hline\n",
    "q_7&Disparando+Direccion \\\\ \\hline\n",
    "\\end{array}\n",
    "<br>\n",
    "\\begin{array}{|c|c|}\\hline\n",
    "Transicion & Accion  \\\\ \\hline\n",
    "0&Contacto Con Enemigo \\\\ \\hline\n",
    "1&IzquieraDerecha \\\\ \\hline\n",
    "2&CambioDireccion \\\\ \\hline\n",
    "3&BotonSalto \\\\ \\hline\n",
    "4&BotonDisparo \\\\ \\hline\n",
    "5&SueloEncontrado \\\\ \\hline\n",
    "6&Abismo \\\\ \\hline\n",
    "7&AlturaMaxima \\\\ \\hline\n",
    "8&SueloNoEncontrado \\\\ \\hline\n",
    "9&LiberarDisparo \\\\ \\hline\n",
    "10&LiberarDireccion \\\\ \\hline\n",
    "\\end{array}\n",
    "<br>"
   ]
  },
  {
   "cell_type": "markdown",
   "metadata": {
    "collapsed": true
   },
   "source": [
    "<ul style=\"font-size:170%; line-height : 35px;\">\n",
    "  <li>Dadas la tablas anteriores, se muestra el diagrama del automata del jugador</li>\n",
    "  <li>La simulacion si el jugador muere </li>\n",
    "  <li>Para este automata, si no se especifica una transicion, se asume que una entrada al sistema no modifica el estado del jugador </li>\n",
    "</ul>\n",
    "\n",
    "<img src=\"Diagramas/p8.png\" alt=\"Imagen vectorial ampliada\" width = \"500\" height=\"300\" style=\"border: #00008B 4px solid;\">\n"
   ]
  }
 ],
 "metadata": {
  "kernelspec": {
   "display_name": "Python 2",
   "language": "python",
   "name": "python2"
  },
  "language_info": {
   "codemirror_mode": {
    "name": "ipython",
    "version": 2
   },
   "file_extension": ".py",
   "mimetype": "text/x-python",
   "name": "python",
   "nbconvert_exporter": "python",
   "pygments_lexer": "ipython2",
   "version": "2.7.13"
  }
 },
 "nbformat": 4,
 "nbformat_minor": 2
}
